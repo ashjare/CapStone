{
 "cells": [
  {
   "cell_type": "markdown",
   "id": "88b164b1-7554-4946-b4c4-be0bf614dc11",
   "metadata": {},
   "source": [
    "# Capstone Project"
   ]
  },
  {
   "cell_type": "markdown",
   "id": "f5d4fe18-5eaa-4974-b2f2-0b6ec2403ba1",
   "metadata": {},
   "source": [
    "### 1. Numbers\n",
    "Find PI to the Nth Digit** - Enter a number and have the program generate n pi; (pi) up to that many decimal places. Keep a limit to how far the program will go."
   ]
  },
  {
   "cell_type": "code",
   "execution_count": 1,
   "id": "f936ec7b-2448-4304-aafd-29a44ddea731",
   "metadata": {},
   "outputs": [
    {
     "name": "stdin",
     "output_type": "stream",
     "text": [
      "Enter the number of digits you want after the decimal for Pi:  5\n"
     ]
    },
    {
     "name": "stdout",
     "output_type": "stream",
     "text": [
      "3.14159\n"
     ]
    }
   ],
   "source": [
    "import math \n",
    "\n",
    "def CalculatePi(roundVal):\n",
    "\n",
    "\t\tsomepi = round(math.pi,roundVal);\n",
    "\t\tpi = str(somepi)\n",
    "\t\tsomeList = list(pi)\n",
    "\t\treturn somepi;\n",
    "roundTo = input('Enter the number of digits you want after the decimal for Pi: ')\n",
    "try:\n",
    "\troundint = int(roundTo);\n",
    "\tprint(CalculatePi(roundint));\n",
    "except:\n",
    "\tprint(\"You did not enter an integer\");\n"
   ]
  },
  {
   "cell_type": "markdown",
   "id": "42581a0d-0c8d-4403-a415-df87737fa009",
   "metadata": {},
   "source": [
    "### 2. Text\n",
    "Fizz Buzz** - Write a program that prints the numbers from 1 to 100. But for multiples of three print “Fizz” instead of the number and for the multiples of five print “Buzz”. For numbers which are multiples of both three and five print “FizzBuzz”."
   ]
  },
  {
   "cell_type": "code",
   "execution_count": 2,
   "id": "8ccc0a2b-fa4c-4a8a-b222-4f45a7ae7554",
   "metadata": {
    "scrolled": true,
    "tags": []
   },
   "outputs": [
    {
     "name": "stdout",
     "output_type": "stream",
     "text": [
      "1\n",
      "2\n",
      "Fizz\n",
      "4\n",
      "Buzz\n",
      "Fizz\n",
      "7\n",
      "8\n",
      "Fizz\n",
      "Buzz\n",
      "11\n",
      "Fizz\n",
      "13\n",
      "14\n",
      "FizzBuzz\n",
      "16\n",
      "17\n",
      "Fizz\n",
      "19\n",
      "Buzz\n",
      "Fizz\n",
      "22\n",
      "23\n",
      "Fizz\n",
      "Buzz\n",
      "26\n",
      "Fizz\n",
      "28\n",
      "29\n",
      "FizzBuzz\n",
      "31\n",
      "32\n",
      "Fizz\n",
      "34\n",
      "Buzz\n",
      "Fizz\n",
      "37\n",
      "38\n",
      "Fizz\n",
      "Buzz\n",
      "41\n",
      "Fizz\n",
      "43\n",
      "44\n",
      "FizzBuzz\n",
      "46\n",
      "47\n",
      "Fizz\n",
      "49\n",
      "Buzz\n",
      "Fizz\n",
      "52\n",
      "53\n",
      "Fizz\n",
      "Buzz\n",
      "56\n",
      "Fizz\n",
      "58\n",
      "59\n",
      "FizzBuzz\n",
      "61\n",
      "62\n",
      "Fizz\n",
      "64\n",
      "Buzz\n",
      "Fizz\n",
      "67\n",
      "68\n",
      "Fizz\n",
      "Buzz\n",
      "71\n",
      "Fizz\n",
      "73\n",
      "74\n",
      "FizzBuzz\n",
      "76\n",
      "77\n",
      "Fizz\n",
      "79\n",
      "Buzz\n",
      "Fizz\n",
      "82\n",
      "83\n",
      "Fizz\n",
      "Buzz\n",
      "86\n",
      "Fizz\n",
      "88\n",
      "89\n",
      "FizzBuzz\n",
      "91\n",
      "92\n",
      "Fizz\n",
      "94\n",
      "Buzz\n",
      "Fizz\n",
      "97\n",
      "98\n",
      "Fizz\n"
     ]
    }
   ],
   "source": [
    "# Loop for 100 times i.e. range\n",
    "for fizzbuzz in range(1,100):\n",
    "\n",
    "\t# Number divisible by 15,(divisible\n",
    "\t# by both 3 & 5), print 'FizzBuzz'\n",
    "\t# in place of the number\n",
    "\tif fizzbuzz % 15 == 0:\n",
    "\t\tprint(\"FizzBuzz\")\t\t\t\t\t\t\t\t\t\t\n",
    "\t\tcontinue\n",
    "\n",
    "\t# Number divisible by 3, print 'Fizz'\n",
    "\t# in place of the number\n",
    "\telif fizzbuzz % 3 == 0:\t\n",
    "\t\tprint(\"Fizz\")\t\t\t\t\t\t\t\t\t\t\n",
    "\t\tcontinue\n",
    "\n",
    "\t# Number divisible by 5,\n",
    "\t# print 'Buzz' in\n",
    "\t# place of the number\n",
    "\telif fizzbuzz % 5 == 0:\t\t\n",
    "\t\tprint(\"Buzz\")\t\t\t\t\t\t\t\t\t\n",
    "\t\tcontinue\n",
    "\n",
    "\t# Print numbers\n",
    "\tprint(fizzbuzz)\n"
   ]
  },
  {
   "cell_type": "markdown",
   "id": "5572a05a-f6b0-4a2c-9d35-0c948eaba726",
   "metadata": {},
   "source": [
    "### 3. Classes\n",
    "Product Inventory Project - Create an application which manages an inventory of products. Create a product class which has a price, id, and quantity on hand. Then create an *inventory* class which keeps track of various products and can sum up the inventory value"
   ]
  },
  {
   "cell_type": "code",
   "execution_count": 3,
   "id": "356828f4-a2e0-4cf8-aa8e-b1684b65e44c",
   "metadata": {},
   "outputs": [
    {
     "name": "stdout",
     "output_type": "stream",
     "text": [
      "241\n"
     ]
    }
   ],
   "source": [
    "class Product:\n",
    "    def __init__(self, identification, price):\n",
    "        self.identification = identification\n",
    "        self.price = price\n",
    "\n",
    "class Inventory:\n",
    "    def __init__(self, products):\n",
    "        self.products = products\n",
    "\n",
    "    @property\n",
    "    def value(self):\n",
    "        return sum(product.price for product in self.products)\n",
    "\n",
    "def main():\n",
    "    product_1 = Product(32, 23)\n",
    "    product_2 = Product(23, 65)\n",
    "    inventory = Inventory(2 * [product_1] + 3 * [product_2])\n",
    "    print(inventory.value)\n",
    "\n",
    "if __name__ == '__main__':\n",
    "    main()"
   ]
  },
  {
   "cell_type": "markdown",
   "id": "885b4006-6037-403e-87d4-4692dd99bb49",
   "metadata": {},
   "source": [
    "### 4. Web\n",
    "**Get Atomic Time from Internet Clock** - This program will get the true atomic time from an atomic time clock on the Internet. Use any one of the atomic clocks returned by a simple Google search."
   ]
  },
  {
   "cell_type": "code",
   "execution_count": 36,
   "id": "d52af091-2def-42b3-9704-5d6c8f9e7332",
   "metadata": {},
   "outputs": [
    {
     "data": {
      "text/plain": [
       "['19.18:42', '19.18:05']"
      ]
     },
     "execution_count": 36,
     "metadata": {},
     "output_type": "execute_result"
    }
   ],
   "source": [
    "URL = 'https://www.timeanddate.com/time/international-atomic-time.html'\n",
    "\n",
    "import urllib.request as ur\n",
    "from bs4 import BeautifulSoup as BS\n",
    "\n",
    "html = ur.urlopen(URL).read()\n",
    "\n",
    "soup = BS(html)\n",
    "#print(soup.find_all(class_ =\"ctm-tz\" ))\n",
    "\n",
    "# Access text from each element\n",
    "[p.text for p in soup.find_all(class_ =\"ctm-tz\" )]"
   ]
  }
 ],
 "metadata": {
  "kernelspec": {
   "display_name": "Python 3 (ipykernel)",
   "language": "python",
   "name": "python3"
  },
  "language_info": {
   "codemirror_mode": {
    "name": "ipython",
    "version": 3
   },
   "file_extension": ".py",
   "mimetype": "text/x-python",
   "name": "python",
   "nbconvert_exporter": "python",
   "pygments_lexer": "ipython3",
   "version": "3.9.7"
  }
 },
 "nbformat": 4,
 "nbformat_minor": 5
}
