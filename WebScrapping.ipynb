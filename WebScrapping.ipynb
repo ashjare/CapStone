{
 "cells": [
  {
   "cell_type": "markdown",
   "id": "62812c06-b4d1-4e32-995c-141c355209fc",
   "metadata": {},
   "source": [
    "Use only BeautifulSoup (not pandas) to extract a table from the following link - \n",
    "\n",
    "https://www.espncricinfo.com/series/ipl-2021-1249214/points-table-standings\n",
    "\n"
   ]
  },
  {
   "cell_type": "code",
   "execution_count": 6,
   "id": "ac30bc46-13fd-4569-8bdd-1eac4f430e88",
   "metadata": {
    "scrolled": true,
    "tags": []
   },
   "outputs": [
    {
     "name": "stdout",
     "output_type": "stream",
     "text": [
      "TEAMSMWLTN/RPTNRRFORAGAINST \n",
      "1Delhi Capitals1410400200.4812180/267.02136/278.0 \n",
      "2Chennai Super Kings149500180.4552368/272.02218/268.5 \n",
      "3Royal Challengers Bangalore14950018-0.1402165/273.42159/268.1 \n",
      "4Kolkata Knight Riders147700140.5872119/259.52080/274.5 \n",
      "5Mumbai Indians147700140.1162117/265.52128/271.1 \n",
      "6Punjab Kings14680012-0.0012150/270.12117/266.0 \n",
      "7Rajasthan Royals14590010-0.9932196/276.02318/259.0 \n",
      "8Sunrisers Hyderabad14311006-0.5452077/277.12216/275.4 \n"
     ]
    }
   ],
   "source": [
    "from bs4 import BeautifulSoup \n",
    "import requests\n",
    " \n",
    "URL = 'https://www.espncricinfo.com/series/ipl-2021-1249214/points-table-standings'\n",
    "  \n",
    "# parsing\n",
    "url_link = requests.get(URL)\n",
    "soup = BeautifulSoup(url_link.text, \"lxml\")\n",
    "\n",
    "# Access text from each element\n",
    "#[p.text for p in soup.find_all(class_ =\"table table-sm standings-widget-table text-center mb-0 border-bottom\" )]\n",
    "\n",
    "# find all tables\n",
    "for find_table in soup.find('table'):\n",
    "    for rows in find_table.find_all('tr'):\n",
    "        data = str(rows.text)\n",
    "        print(data+\" \")"
   ]
  },
  {
   "cell_type": "code",
   "execution_count": null,
   "id": "52857e5f-95bd-476c-93cc-2b7571643eca",
   "metadata": {},
   "outputs": [],
   "source": []
  }
 ],
 "metadata": {
  "kernelspec": {
   "display_name": "Python 3 (ipykernel)",
   "language": "python",
   "name": "python3"
  },
  "language_info": {
   "codemirror_mode": {
    "name": "ipython",
    "version": 3
   },
   "file_extension": ".py",
   "mimetype": "text/x-python",
   "name": "python",
   "nbconvert_exporter": "python",
   "pygments_lexer": "ipython3",
   "version": "3.9.7"
  }
 },
 "nbformat": 4,
 "nbformat_minor": 5
}
